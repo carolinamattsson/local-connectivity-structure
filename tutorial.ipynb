{
 "cells": [
  {
   "cell_type": "markdown",
   "metadata": {},
   "source": [
    "# Identifying local connectivity structure"
   ]
  },
  {
   "cell_type": "code",
   "execution_count": 1,
   "metadata": {},
   "outputs": [],
   "source": [
    "# Set working directory --- edit to navigate to where you downloaded the repository\n",
    "import os\n",
    "homedir = os.path.expanduser(\"~\")\n",
    "projdir = os.path.join(homedir,\"Documents\",\"Research\",\"GitHub\",\"local-connectivity-structure\")  "
   ]
  },
  {
   "cell_type": "code",
   "execution_count": 2,
   "metadata": {},
   "outputs": [],
   "source": [
    "# Limit computational resource use (CPU) granted to numpy for parallelizing computations \n",
    "# Keeps you from overwhelming a shared server in running the matrix calculations\n",
    "os.environ[\"OMP_NUM_THREADS\"] = \"4\"\n",
    "os.environ[\"OPENBLAS_NUM_THREADS\"] = \"4\"\n",
    "os.environ[\"MKL_NUM_THREADS\"] = \"4\"\n",
    "os.environ[\"VECLIB_MAXIMUM_THREADS\"] = \"4\"\n",
    "os.environ[\"NUMEXPR_NUM_THREADS\"] = \"4\""
   ]
  },
  {
   "cell_type": "code",
   "execution_count": 3,
   "metadata": {},
   "outputs": [],
   "source": [
    "# Data handling\n",
    "import pandas as pd\n",
    "import numpy as np\n",
    "import copy\n",
    "import csv\n",
    "\n",
    "# Analysis\n",
    "import networkx as nx    \n",
    "import scipy as sp\n",
    "import random\n",
    "import math\n",
    "\n",
    "# Visualization\n",
    "import pickle as pkl\n",
    "import matplotlib as mpl\n",
    "import matplotlib.pyplot as plt\n",
    "import matplotlib.gridspec as grid_spec\n",
    "import seaborn as sns\n",
    "%matplotlib inline"
   ]
  },
  {
   "cell_type": "code",
   "execution_count": 4,
   "metadata": {},
   "outputs": [
    {
     "name": "stdout",
     "output_type": "stream",
     "text": [
      "pd 1.0.5\n",
      "nx 2.4\n",
      "np 1.18.5\n",
      "sp 1.5.0\n"
     ]
    }
   ],
   "source": [
    "# Version check\n",
    "print(\"pd\", pd.__version__)\n",
    "print(\"nx\", nx.__version__)     # need version 2\n",
    "print(\"np\", np.__version__)\n",
    "print(\"sp\", sp.__version__)     # scipy >1.5 to avoid this issue with matrix exponentials: https://github.com/scipy/scipy/issues/11839"
   ]
  },
  {
   "cell_type": "markdown",
   "metadata": {},
   "source": [
    "### Social & functional networks"
   ]
  },
  {
   "cell_type": "markdown",
   "metadata": {},
   "source": [
    "#### Copenhagen Networks Study, Facebook friendships\n",
    "From: https://www.nature.com/articles/s41597-019-0325-x   \n",
    "Downloaded: https://figshare.com/articles/dataset/The_Copenhagen_Networks_Study_interaction_data/7267433/1"
   ]
  },
  {
   "cell_type": "code",
   "execution_count": 5,
   "metadata": {},
   "outputs": [
    {
     "data": {
      "text/html": [
       "<div>\n",
       "<style scoped>\n",
       "    .dataframe tbody tr th:only-of-type {\n",
       "        vertical-align: middle;\n",
       "    }\n",
       "\n",
       "    .dataframe tbody tr th {\n",
       "        vertical-align: top;\n",
       "    }\n",
       "\n",
       "    .dataframe thead th {\n",
       "        text-align: right;\n",
       "    }\n",
       "</style>\n",
       "<table border=\"1\" class=\"dataframe\">\n",
       "  <thead>\n",
       "    <tr style=\"text-align: right;\">\n",
       "      <th></th>\n",
       "      <th>user_a</th>\n",
       "      <th>user_b</th>\n",
       "    </tr>\n",
       "  </thead>\n",
       "  <tbody>\n",
       "    <tr>\n",
       "      <th>0</th>\n",
       "      <td>0</td>\n",
       "      <td>512</td>\n",
       "    </tr>\n",
       "    <tr>\n",
       "      <th>1</th>\n",
       "      <td>0</td>\n",
       "      <td>263</td>\n",
       "    </tr>\n",
       "    <tr>\n",
       "      <th>2</th>\n",
       "      <td>0</td>\n",
       "      <td>525</td>\n",
       "    </tr>\n",
       "    <tr>\n",
       "      <th>3</th>\n",
       "      <td>0</td>\n",
       "      <td>285</td>\n",
       "    </tr>\n",
       "    <tr>\n",
       "      <th>4</th>\n",
       "      <td>0</td>\n",
       "      <td>543</td>\n",
       "    </tr>\n",
       "  </tbody>\n",
       "</table>\n",
       "</div>"
      ],
      "text/plain": [
       "  user_a user_b\n",
       "0      0    512\n",
       "1      0    263\n",
       "2      0    525\n",
       "3      0    285\n",
       "4      0    543"
      ]
     },
     "execution_count": 5,
     "metadata": {},
     "output_type": "execute_result"
    }
   ],
   "source": [
    "friendships_file = os.path.join(projdir,\"datasets\",\"copenhagen\",\"fb_friends.csv\")\n",
    "friendships = pd.read_csv(friendships_file, names = [\"user_a\",\"user_b\"], header = 0, dtype = str)\n",
    "friendships.head()"
   ]
  },
  {
   "cell_type": "markdown",
   "metadata": {},
   "source": [
    "#### Human interactome, Version III (2017)\n",
    "From: https://www.nature.com/articles/s41467-019-09177-y      \n",
    "Downloaded: https://github.com/kpisti/L3/tree/v1.0.2"
   ]
  },
  {
   "cell_type": "code",
   "execution_count": 6,
   "metadata": {},
   "outputs": [
    {
     "data": {
      "text/html": [
       "<div>\n",
       "<style scoped>\n",
       "    .dataframe tbody tr th:only-of-type {\n",
       "        vertical-align: middle;\n",
       "    }\n",
       "\n",
       "    .dataframe tbody tr th {\n",
       "        vertical-align: top;\n",
       "    }\n",
       "\n",
       "    .dataframe thead th {\n",
       "        text-align: right;\n",
       "    }\n",
       "</style>\n",
       "<table border=\"1\" class=\"dataframe\">\n",
       "  <thead>\n",
       "    <tr style=\"text-align: right;\">\n",
       "      <th></th>\n",
       "      <th>protein_a</th>\n",
       "      <th>protein_b</th>\n",
       "    </tr>\n",
       "  </thead>\n",
       "  <tbody>\n",
       "    <tr>\n",
       "      <th>0</th>\n",
       "      <td>14</td>\n",
       "      <td>64782</td>\n",
       "    </tr>\n",
       "    <tr>\n",
       "      <th>1</th>\n",
       "      <td>27</td>\n",
       "      <td>9322</td>\n",
       "    </tr>\n",
       "    <tr>\n",
       "      <th>2</th>\n",
       "      <td>27</td>\n",
       "      <td>10152</td>\n",
       "    </tr>\n",
       "    <tr>\n",
       "      <th>3</th>\n",
       "      <td>30</td>\n",
       "      <td>7919</td>\n",
       "    </tr>\n",
       "    <tr>\n",
       "      <th>4</th>\n",
       "      <td>33</td>\n",
       "      <td>7051</td>\n",
       "    </tr>\n",
       "  </tbody>\n",
       "</table>\n",
       "</div>"
      ],
      "text/plain": [
       "  protein_a protein_b\n",
       "0        14     64782\n",
       "1        27      9322\n",
       "2        27     10152\n",
       "3        30      7919\n",
       "4        33      7051"
      ]
     },
     "execution_count": 6,
     "metadata": {},
     "output_type": "execute_result"
    }
   ],
   "source": [
    "interactions_file = os.path.join(projdir,\"datasets\",\"kpisti-L3-ed6b18f\",\"hi-iii.txt\")\n",
    "interactions = pd.read_csv(interactions_file, sep = '\\t', names = [\"protein_a\",\"protein_b\",\"weight\"], dtype = str)\n",
    "interactions = interactions.drop(\"weight\",axis=1)\n",
    "interactions.head()"
   ]
  },
  {
   "cell_type": "markdown",
   "metadata": {},
   "source": [
    "## Measures & methods\n",
    "\n",
    "Spectral bipartivity can be re-purposed to identify local connectivity structure in networks using a comparison to random expectation. This measure quantifies the over-representation of even vs. odd cycles in the local connectivity structure of a network. Random networks give us the baseline. Social networks have lots of triangles and so are _less_ bipartite than random expectation. Functional networks have lots of squares and so are _more_ bipartite than random expectation. Two-mode networks are bipartite and would have a value of 1. Below is a toy example of how social, random, functional, and two-mode networks with the same number of nodes and edges are arranged according to their value of spectral bipartivity. \n",
    "\n",
    "![A toy example of how social, random, functional, and two-mode networks with seven nodes and eleven edges show increasing spectral bipartivity.](scale.jpg?raw=true)"
   ]
  },
  {
   "cell_type": "markdown",
   "metadata": {},
   "source": [
    "#### Estrada index\n",
    "The [Estrada index](https://www.sciencedirect.com/science/article/abs/pii/S0009261400001585) is an absolute measure of local connectivity. This measure quantifies the local density of cycles by having closed paths contribute progressively less to the value of the measure as they take more steps to complete. The value of the Estrada index for a network, $G$ with $n$ nodes can be computed as the trace of the matrix exponential of that network's adjacency matrix, $A$. The equation below gives this definition as well as an alternative formulation where $\\lambda_{1} \\leq \\cdots \\leq \\lambda_{n}$ are the eigenvalues of $A$. \n",
    "\n",
    "$$\n",
    "EE(G) \n",
    "= tr \\exp(A)\n",
    "= \\sum_{j=1}^{n} e^{\\lambda_j} \n",
    "$$"
   ]
  },
  {
   "cell_type": "markdown",
   "metadata": {},
   "source": [
    "#### Spectral bipartivity\n",
    "\n",
    "[Spectral bipartivity](https://journals.aps.org/pre/abstract/10.1103/PhysRevE.72.046105) ($b_s$) is a variation of the Estrada index that separates the contribution of even and odd closed paths. This is done using the hyperbolic sine and cosine matrix functions, which add up to the matrix exponential, as applied to a network's adjacency matrix. With [proper normalization](https://www.sciencedirect.com/science/article/abs/pii/S016727891500216X), spectral bipartivity ranges from $0$ when the network is fully complete to $1$ when the network is fully bipartite. Two-mode networks are the extreme case where the bipartite constraint on link formation entirely disallows odd cycles. The equation below defines several equivalent formulations of spectral bipartivity. \n",
    "\n",
    "$$\n",
    "b_s(G)\n",
    "= \\frac{tr \\cosh(A) - tr \\sinh(A)}{tr \\cosh(A) + tr \\sinh(A)} \n",
    "= \\frac{tr \\exp(-A)}{tr \\exp(A)}\n",
    "= \\frac{\\sum_{j=1}^{n} e^{-\\lambda_j}}{\\sum_{j=1}^{n} e^{\\lambda_j}}\n",
    "$$\n"
   ]
  },
  {
   "cell_type": "code",
   "execution_count": 7,
   "metadata": {},
   "outputs": [],
   "source": [
    "def bipartivity(nx_graph,weight=None,nodes={},label=\"idx\"):\n",
    "    tmp = copy.deepcopy(nx_graph)\n",
    "    # Standardize the indices\n",
    "    tmp_idx = nx.convert_node_labels_to_integers(tmp,label_attribute=\"idx\")\n",
    "    name_idx = {value:key for key, value in nx.get_node_attributes(tmp_idx,label).items()}\n",
    "    # Generate node sets\n",
    "    node_sets = {\"all\":list(tmp_idx.nodes)}\n",
    "    for node_set in nodes:\n",
    "        idxs = [name_idx[name] for name in nodes[node_set] if name in name_idx]\n",
    "        if idxs:\n",
    "            node_sets[node_set] = idxs\n",
    "        else:\n",
    "            print(\",\".join([\"Warning: nodes list empty for nodes set: \",node_set]))\n",
    "    # Convert into an adjacency matrix\n",
    "    np_graph = nx.to_numpy_array(tmp_idx,weight=weight)\n",
    "    # Check for overflow\n",
    "    n_row, n_col = np_graph.shape\n",
    "    eig_A = sp.linalg.eigh(np_graph,eigvals_only=True,subset_by_index=[n_row-1,n_row-1])\n",
    "    eig_nA = sp.linalg.eigh(-1*np_graph,eigvals_only=True,subset_by_index=[n_row-1,n_row-1])\n",
    "    bp_num_approx = np.exp(eig_nA)\n",
    "    bp_den_approx = np.exp(eig_A)\n",
    "    # If the result will be finite, continue\n",
    "    if np.isfinite(bp_num_approx) & np.isfinite(bp_den_approx):\n",
    "        # Compute the matrix exponentials\n",
    "        bp_num = np.diagonal(sp.linalg.expm(-1*np_graph))\n",
    "        bp_den = np.diagonal(sp.linalg.expm(np_graph))\n",
    "        # Calculate the bipartivity\n",
    "        bp = {}\n",
    "        for node_set in node_sets:\n",
    "            bp[node_set] = {}\n",
    "            idxs = node_sets[node_set]\n",
    "            bp[node_set][\"bp\"] = np.sum(bp_num[idxs])/np.sum(bp_den[idxs])\n",
    "            bp[node_set][\"bps\"] = np.divide(bp_num[idxs],bp_den[idxs])\n",
    "            bp[node_set][\"bp_avg\"] = np.mean(bp[node_set][\"bps\"])\n",
    "            bp[node_set][\"ids\"] = [tmp_idx.nodes[idx][label] for idx in idxs]\n",
    "            bp[node_set][\"n\"] = len(bp[node_set][\"ids\"])\n",
    "        return bp\n",
    "    # Otherwise report the approximations\n",
    "    else:\n",
    "        print(\"Non-finite exponential, as approximated by the largest eigenvalues [exp(lev_-A)/exp(lev_A)].\")\n",
    "        print(\"Largest eigenvalue -A:\",eig_nA)\n",
    "        print(\"Largest eigenvalue  A:\",eig_A)\n",
    "        return None"
   ]
  },
  {
   "cell_type": "code",
   "execution_count": 8,
   "metadata": {},
   "outputs": [],
   "source": [
    "def convert_to_table_bp(bp_dict,network_name,instance,version,focal_subset):\n",
    "    row = {}\n",
    "    row['network'] = network_name\n",
    "    row['instance'] = instance\n",
    "    row['version'] = version\n",
    "    row['subset']  = focal_subset\n",
    "    row['n']       = bp_dict[focal_subset]['n']\n",
    "    row['bp']      = bp_dict[focal_subset]['bp']\n",
    "    row['bp_avg']  = bp_dict[focal_subset]['bp_avg']\n",
    "    return row"
   ]
  },
  {
   "cell_type": "code",
   "execution_count": 9,
   "metadata": {},
   "outputs": [],
   "source": [
    "def report_bipartivity(bipartivity_dict,bipartivity_filename,network_name=\"network\",version=\"empirical\",instance=None):\n",
    "    \n",
    "    bipartivity_header = [\"network\",\"version\",\"instance\",\"subset\",\"n\",\"bp\",\"bp_avg\"]\n",
    "    \n",
    "    # Write to file -- whole-network\n",
    "    with open(bipartivity_filename,'a') as output_file:\n",
    "        output_writer = csv.DictWriter(output_file,fieldnames=bipartivity_header)\n",
    "        for focal_subset in bipartivity_dict:\n",
    "            row = convert_to_table_bp(bipartivity_dict,network_name,instance,version,focal_subset)\n",
    "            output_writer.writerow(row)"
   ]
  },
  {
   "cell_type": "code",
   "execution_count": 10,
   "metadata": {},
   "outputs": [],
   "source": [
    "def initialize_node_bipartivity(_network_):\n",
    "\n",
    "    name_idx = {}\n",
    "    nodes_dict = {}\n",
    "    \n",
    "    # Node labels\n",
    "    for node, be_id in _network_.nodes(data=\"BE_ID\"):\n",
    "        nodes_dict[be_id] = {}\n",
    "        nodes_dict[be_id][\"BE_ID\"] = be_id\n",
    "        nodes_dict[be_id][\"idx\"] = node\n",
    "        name_idx[node] = be_id\n",
    "        \n",
    "    # Node degree\n",
    "    for node, deg in _network_.degree():\n",
    "        nodes_dict[name_idx[node]][\"k\"] = deg\n",
    "        \n",
    "    return nodes_dict"
   ]
  },
  {
   "cell_type": "code",
   "execution_count": 11,
   "metadata": {},
   "outputs": [],
   "source": [
    "def report_bipartivities(bipartivity_dict,bipartivities_filename,nodes_dict,network_name=\"network\",version=\"empirical\",instance=None):\n",
    "    \n",
    "    bipartivities_header = [\"network\",\"instance\",\"version\",\"idx\",\"BE_ID\",\"k\",\"bp\"]\n",
    "\n",
    "    if bipartivities_filename and nodes_dict:\n",
    "        # Write to file -- nodel-level\n",
    "        with open(bipartivities_filename,'a') as output_file:\n",
    "            output_writer = csv.DictWriter(output_file,fieldnames=bipartivities_header)\n",
    "            # Node bipartivity\n",
    "            for be_id, bp in zip(bipartivity_dict[\"all\"][\"ids\"],bipartivity_dict[\"all\"][\"bps\"]):\n",
    "                nodes_dict[be_id][\"bp\"] = bp \n",
    "            for key, row in nodes_dict.items():\n",
    "                row.update({\"network\":network_name,\"instance\":instance,\"version\":version})\n",
    "                output_writer.writerow(row)"
   ]
  },
  {
   "cell_type": "markdown",
   "metadata": {},
   "source": [
    "#### Spectral bipartivity, logit approximation\n",
    "\n",
    "We primarily consider the value of the spectral bipartivity under a logistic transformation, because this metric is restricted in range from $0$ to $1$ and the Estrada index in the denominator [can become quite large](https://www.sciencedirect.com/science/article/pii/S0024379507002844). It's also nice in that logit spectral bipartivity can also be approximated for networks that fulfill the following two conditions. First, when the spectral bipartivity is very small, i.e. $b_s \\approx 0$, the logistic transformation is closely approximated by a log transformation. Second, whenever the most positive and most negative eigenvalues of a network's adjacency matrix are substantially larger in magnitude than their neighboring eigenvalue, i.e. $\\lambda_1 \\ll \\lambda_2$ and $\\lambda_{n} \\gg \\lambda_{n-1}$, these eigenvalues will dominate the exponential sums in the numerator and denominator of spectral bipartivity. The equation below describes these approximations.\n",
    "\n",
    "$$\n",
    "\\begin{array}{c}\n",
    "\\textrm{logit}(b_s) \n",
    " =  \\log{\\frac{b_s}{1-b_s}}\n",
    "= \\log{b_s} - \\log{(1-b_s)}\n",
    "\\approx \\log{b_s}\\\\\n",
    "\\log(b_s)  =  \\log{\\frac{\\sum_{j=1}^{n} e^{-\\lambda_j}}{\\sum_{j=1}^{n} e^{\\lambda_j}}} \n",
    "\\approx \\log{\\frac{e^{-\\lambda_1}}{e^{\\lambda_n}}}\n",
    "= - (\\lambda_1 + \\lambda_n)\n",
    "\\end{array}\n",
    "$$"
   ]
  },
  {
   "cell_type": "code",
   "execution_count": 12,
   "metadata": {},
   "outputs": [],
   "source": [
    "def bipartivity_approx(nx_network,evs=1,weight=None):\n",
    "    # Convert into an adjacency matrix\n",
    "    sp_network = nx.to_scipy_sparse_matrix(nx_network,weight=weight)\n",
    "    # Initialize the output dictionary\n",
    "    bp_approx = {}\n",
    "    # Compute the top eigenvalues\n",
    "    bp_approx[\"evs_A\"] = list(sp.sparse.linalg.eigsh(sp_network.asfptype(),k=2*evs,return_eigenvectors=False,which='BE'))\n",
    "    # Get the approximation of the logit bipartivity from the top eigenvalues\n",
    "    bp_approx[\"logit_bp\"] = -1*min(bp_approx[\"evs_A\"]) - max(bp_approx[\"evs_A\"])\n",
    "    # Report the approximations\n",
    "    return bp_approx"
   ]
  },
  {
   "cell_type": "code",
   "execution_count": 13,
   "metadata": {},
   "outputs": [],
   "source": [
    "def convert_to_table_bp_approx(bp_dict,network_name,version,instance):\n",
    "    row = {}\n",
    "    row['network'] = network_name\n",
    "    row['version'] = version\n",
    "    row['instance'] = instance\n",
    "    row['logit_bp'] = bp_dict[\"logit_bp\"]\n",
    "    evs = int(len(bp_dict[\"evs_A\"])/2)\n",
    "    idx = [-(i+1) for i in range(evs)]+[i+1 for i in reversed(range(evs))]\n",
    "    for i, ev in zip(idx,bp_dict[\"evs_A\"]):\n",
    "        row[\"ev_A_\"+str(i)] = ev\n",
    "    return row"
   ]
  },
  {
   "cell_type": "code",
   "execution_count": 14,
   "metadata": {},
   "outputs": [],
   "source": [
    "def report_bipartivity_approx(bipartivity_dict,bipartivity_filename,evs=1,network_name=\"network\",version=\"empirical\",instance=None):\n",
    "    \n",
    "    bipartivity_header = [\"network\",\"version\",\"instance\",\"logit_bp\"]+[\"ev_A_\"+str(-(i+1)) for i in range(evs)]+[\"ev_A_\"+str(i+1) for i in reversed(range(evs))]\n",
    "    \n",
    "    # Write to file -- whole-network approximation\n",
    "    with open(bipartivity_filename,'a') as output_file:\n",
    "        output_writer = csv.DictWriter(output_file,fieldnames=bipartivity_header)\n",
    "        row = convert_to_table_bp_approx(bipartivity_dict,network_name,version,instance)\n",
    "        output_writer.writerow(row)"
   ]
  },
  {
   "cell_type": "markdown",
   "metadata": {},
   "source": [
    "#### Degree-preserving randomization\n",
    "The random expectation is found by calculating spectral bipartivity on a set of random networks comparable to our networks of trading relationships. [Degree](https://www.jstor.org/stable/25051102)-[preserving](https://dl.acm.org/doi/10.1145/1297332.1297338) [randomization](https://arxiv.org/abs/cond-mat/0312028) produces random networks that maintain the number of companies, the number of unique inter-company links, and the degree of each company. We use a version of this called random pairwise rewiring, wherein pairs of edges are selected and an end point of each edge are swapped. Our implementation also guarantees that the randomized network remains simple by following through with a rewire only so long as it will not introduce self-loops or multi-edges. Randomization continues until $10 \\cdot m$ pairs of links have been rewired, where $m$ is the number of simple edges. "
   ]
  },
  {
   "cell_type": "code",
   "execution_count": 15,
   "metadata": {},
   "outputs": [],
   "source": [
    "def pairwise(iterable):\n",
    "    tmp = iter(iterable)\n",
    "    return zip(tmp,tmp)"
   ]
  },
  {
   "cell_type": "code",
   "execution_count": 16,
   "metadata": {},
   "outputs": [],
   "source": [
    "# Random edge rewiring with simplicity constraint\n",
    "def rewire(_network_,rewire=10,limit=100,directed=False):\n",
    "    config = _network_.copy()\n",
    "    # Numer of edges to rewire\n",
    "    total_rewired = rewire*config.number_of_edges()\n",
    "    rewired = 0\n",
    "    loops = 0\n",
    "    # Randomly rewire pairs of edges, without creating multi-edges or self-loops\n",
    "    while rewired < total_rewired:\n",
    "        # If this has gone on too long, abort mission\n",
    "        if loops > limit:\n",
    "            print(\"Exited loop after 100 itterations over edges. Pairs rewired:\",rewired)\n",
    "            break\n",
    "        # Get a list of the edges\n",
    "        to_rewire = list(config.edges())\n",
    "        # Shuffle this list and loop through it pairwise\n",
    "        random.shuffle(to_rewire)\n",
    "        for edge1, edge2 in pairwise(to_rewire):\n",
    "            rewire = False\n",
    "            # Randomly choose one of the rewiring directions, unless directed in which case use the available direction\n",
    "            if directed or random.random() < 0.5:\n",
    "                # Rewire unless it will create a multi-edge or self-loop\n",
    "                if (config.has_edge(edge1[0],edge2[1]) | config.has_edge(edge2[0],edge1[1])) | ((edge1[0]==edge2[1]) | (edge2[0]==edge1[1])):\n",
    "                    continue\n",
    "                else:\n",
    "                    config.add_edge(edge1[0],edge2[1])\n",
    "                    config.add_edge(edge2[0],edge1[1])\n",
    "                    rewire = True\n",
    "            else:\n",
    "                # Rewire unless it will create a multi-edge or self-loop\n",
    "                if (config.has_edge(edge1[0],edge2[0]) | config.has_edge(edge1[1],edge2[1])) | ((edge1[0]==edge2[0]) | (edge1[1]==edge2[1])):\n",
    "                    continue\n",
    "                else:\n",
    "                    config.add_edge(edge1[0],edge2[0])\n",
    "                    config.add_edge(edge1[1],edge2[1])\n",
    "                    rewire = True\n",
    "            # Remove the old edges and update the count (if the rewiring went through)\n",
    "            if rewire:\n",
    "                config.remove_edge(edge1[0],edge1[1])\n",
    "                config.remove_edge(edge2[0],edge2[1])\n",
    "                # Update the total\n",
    "                rewired += 1\n",
    "        loops += 1\n",
    "    # Return\n",
    "    return config"
   ]
  },
  {
   "cell_type": "markdown",
   "metadata": {},
   "source": [
    "#### Statistics\n",
    "\n",
    "We use the [Kolmogorov–Smirnov test](https://link.springer.com/referenceworkentry/10.1007%2F978-0-387-32833-1_214). The $KS$ statistic quantifies the (lack of) overlap between distributions; $KS = 0$ indicates identical distributions and $KS = 1$ indicates non-overlapping distributions, i.e. one is consistently less/greater than the other. The statistical power of the test is a function of the size of the two distributions and the overlap between then. In analyzing the local connectivity structure of a network, we compare their values of spectral bipartivity against those of their many randomized versions. Note that comparisons between two distributions have much higher statistical power under non-parametric tests, like this one, than those between a distribution and a single value. For that, the best you can get, with $KS = 1$, is $p = 1/(n+1)$. "
   ]
  },
  {
   "cell_type": "code",
   "execution_count": 49,
   "metadata": {},
   "outputs": [
    {
     "data": {
      "text/plain": [
       "KstestResult(statistic=1.0, pvalue=5.412544112234515e-06)"
      ]
     },
     "execution_count": 49,
     "metadata": {},
     "output_type": "execute_result"
    }
   ],
   "source": [
    "sp.stats.ks_2samp(random.sample(range(1,60), 10),random.sample(range(51,100), 10),alternative=\"greater\")"
   ]
  },
  {
   "cell_type": "code",
   "execution_count": 50,
   "metadata": {},
   "outputs": [
    {
     "data": {
      "text/plain": [
       "KstestResult(statistic=0.0, pvalue=1.0)"
      ]
     },
     "execution_count": 50,
     "metadata": {},
     "output_type": "execute_result"
    }
   ],
   "source": [
    "sp.stats.ks_2samp(random.sample(range(1,60), 10),random.sample(range(51,100), 10),alternative=\"less\")"
   ]
  },
  {
   "cell_type": "markdown",
   "metadata": {},
   "source": [
    "## Computations"
   ]
  },
  {
   "cell_type": "code",
   "execution_count": 17,
   "metadata": {},
   "outputs": [],
   "source": [
    "# Output filename \n",
    "bipartivity_filename = os.path.join(projdir,\"bipartivity.csv\")\n",
    "bipartivity_approx_filename = os.path.join(projdir,\"bipartivity_approx.csv\")\n",
    "bipartivity_approx_evs = 3 # number of eigenvalues used in approximation\n",
    "# Initialize files\n",
    "bipartivity_header = [\"network\",\"version\",\"instance\",\"subset\",\"n\",\"bp\",\"bp_avg\"]\n",
    "with open(bipartivity_filename,'w') as output_file:\n",
    "    output_writer = csv.DictWriter(output_file,fieldnames=bipartivity_header)\n",
    "    output_writer.writeheader()  \n",
    "# Initialize file\n",
    "bipartivity_approx_header = [\"network\",\"version\",\"instance\",\"logit_bp\"]+[\"ev_A_\"+str(-(i+1)) for i in range(bipartivity_approx_evs)]+[\"ev_A_\"+str(i+1) for i in reversed(range(bipartivity_approx_evs))]\n",
    "with open(bipartivity_approx_filename,'w') as output_file:\n",
    "    output_writer = csv.DictWriter(output_file,fieldnames=bipartivity_approx_header)\n",
    "    output_writer.writeheader()    "
   ]
  },
  {
   "cell_type": "code",
   "execution_count": 18,
   "metadata": {},
   "outputs": [],
   "source": [
    "# Load into NetworkX\n",
    "G_friendships = nx.from_pandas_edgelist(friendships,source=\"user_a\",target=\"user_b\",create_using=nx.Graph)\n",
    "G_interactions = nx.from_pandas_edgelist(interactions,source=\"protein_a\",target=\"protein_b\",create_using=nx.Graph)"
   ]
  },
  {
   "cell_type": "code",
   "execution_count": 19,
   "metadata": {},
   "outputs": [],
   "source": [
    "# Compute bipartivity\n",
    "bp_friendships = bipartivity(G_friendships)\n",
    "bp_interactions = bipartivity(G_interactions)"
   ]
  },
  {
   "cell_type": "code",
   "execution_count": 20,
   "metadata": {},
   "outputs": [],
   "source": [
    "# Report bipartivity\n",
    "report_bipartivity(bp_friendships,bipartivity_filename,network_name=\"friendships\",version=\"empirical\")\n",
    "report_bipartivity(bp_interactions,bipartivity_filename,network_name=\"interactions\",version=\"empirical\")"
   ]
  },
  {
   "cell_type": "code",
   "execution_count": 21,
   "metadata": {},
   "outputs": [],
   "source": [
    "# Compute & report approx logit spectral bipartivity\n",
    "bp_approx_interactions = bipartivity_approx(G_interactions, evs=bipartivity_approx_evs)\n",
    "report_bipartivity_approx(bp_approx_interactions,bipartivity_approx_filename,evs=bipartivity_approx_evs,network_name=\"interactions\",version=\"empirical\")"
   ]
  },
  {
   "cell_type": "code",
   "execution_count": 22,
   "metadata": {},
   "outputs": [],
   "source": [
    "# Now generate the randomized versions against which we will compare, and compute their bipartivity\n",
    "randomizations = 25  "
   ]
  },
  {
   "cell_type": "code",
   "execution_count": 23,
   "metadata": {
    "scrolled": true
   },
   "outputs": [
    {
     "name": "stdout",
     "output_type": "stream",
     "text": [
      "Reported comparison: 0\n",
      "Reported comparison: 1\n",
      "Reported comparison: 2\n",
      "Reported comparison: 3\n",
      "Reported comparison: 4\n",
      "Reported comparison: 5\n",
      "Reported comparison: 6\n",
      "Reported comparison: 7\n",
      "Reported comparison: 8\n",
      "Reported comparison: 9\n",
      "Reported comparison: 10\n",
      "Reported comparison: 11\n",
      "Reported comparison: 12\n",
      "Reported comparison: 13\n",
      "Reported comparison: 14\n",
      "Reported comparison: 15\n",
      "Reported comparison: 16\n",
      "Reported comparison: 17\n",
      "Reported comparison: 18\n",
      "Reported comparison: 19\n",
      "Reported comparison: 20\n",
      "Reported comparison: 21\n",
      "Reported comparison: 22\n",
      "Reported comparison: 23\n",
      "Reported comparison: 24\n"
     ]
    }
   ],
   "source": [
    "#### Randomize ####\n",
    "for i in range(randomizations):\n",
    "    # Generate rewired network\n",
    "    G_friendships_rw = rewire(G_friendships)\n",
    "    # Compute bipartivity\n",
    "    bp_friendships_rw = bipartivity(G_friendships_rw)\n",
    "    # Report bipartivity\n",
    "    report_bipartivity(bp_friendships_rw,bipartivity_filename,network_name=\"friendships\",version=\"rewired\",instance=i)\n",
    "    # Update progress\n",
    "    print(\"Reported comparison:\",i)"
   ]
  },
  {
   "cell_type": "code",
   "execution_count": 24,
   "metadata": {},
   "outputs": [
    {
     "name": "stdout",
     "output_type": "stream",
     "text": [
      "Reported comparison: 0\n",
      "Reported comparison: 1\n",
      "Reported comparison: 2\n",
      "Reported comparison: 3\n",
      "Reported comparison: 4\n",
      "Reported comparison: 5\n",
      "Reported comparison: 6\n",
      "Reported comparison: 7\n",
      "Reported comparison: 8\n",
      "Reported comparison: 9\n",
      "Reported comparison: 10\n",
      "Reported comparison: 11\n",
      "Reported comparison: 12\n",
      "Reported comparison: 13\n",
      "Reported comparison: 14\n",
      "Reported comparison: 15\n",
      "Reported comparison: 16\n",
      "Reported comparison: 17\n",
      "Reported comparison: 18\n",
      "Reported comparison: 19\n",
      "Reported comparison: 20\n",
      "Reported comparison: 21\n",
      "Reported comparison: 22\n",
      "Reported comparison: 23\n",
      "Reported comparison: 24\n"
     ]
    }
   ],
   "source": [
    "#### Randomize ####\n",
    "for i in range(randomizations):\n",
    "    # Generate rewired network\n",
    "    G_interactions_rw = rewire(G_interactions)\n",
    "    # Compute bipartivity\n",
    "    bp_interactions_rw = bipartivity(G_interactions_rw)\n",
    "    # Report bipartivity\n",
    "    report_bipartivity(bp_interactions_rw,bipartivity_filename,network_name=\"interactions\",version=\"rewired\",instance=i)\n",
    "    # Compute & report approx logit bipartivity\n",
    "    bp_approx_interactions_rw = bipartivity_approx(G_interactions_rw, evs=bipartivity_approx_evs)\n",
    "    report_bipartivity_approx(bp_approx_interactions_rw,bipartivity_approx_filename,evs=bipartivity_approx_evs,network_name=\"interactions\",version=\"rewired\",instance=i)\n",
    "    # Update progress\n",
    "    print(\"Reported comparison:\",i)"
   ]
  },
  {
   "cell_type": "markdown",
   "metadata": {},
   "source": [
    "## Analysis"
   ]
  },
  {
   "cell_type": "code",
   "execution_count": 51,
   "metadata": {},
   "outputs": [
    {
     "data": {
      "text/html": [
       "<div>\n",
       "<style scoped>\n",
       "    .dataframe tbody tr th:only-of-type {\n",
       "        vertical-align: middle;\n",
       "    }\n",
       "\n",
       "    .dataframe tbody tr th {\n",
       "        vertical-align: top;\n",
       "    }\n",
       "\n",
       "    .dataframe thead th {\n",
       "        text-align: right;\n",
       "    }\n",
       "</style>\n",
       "<table border=\"1\" class=\"dataframe\">\n",
       "  <thead>\n",
       "    <tr style=\"text-align: right;\">\n",
       "      <th></th>\n",
       "      <th>network</th>\n",
       "      <th>version</th>\n",
       "      <th>instance</th>\n",
       "      <th>subset</th>\n",
       "      <th>n</th>\n",
       "      <th>bp</th>\n",
       "      <th>bp_avg</th>\n",
       "    </tr>\n",
       "  </thead>\n",
       "  <tbody>\n",
       "    <tr>\n",
       "      <th>0</th>\n",
       "      <td>friendships</td>\n",
       "      <td>empirical</td>\n",
       "      <td>NaN</td>\n",
       "      <td>all</td>\n",
       "      <td>800</td>\n",
       "      <td>1.218572e-09</td>\n",
       "      <td>0.000002</td>\n",
       "    </tr>\n",
       "    <tr>\n",
       "      <th>1</th>\n",
       "      <td>interactions</td>\n",
       "      <td>empirical</td>\n",
       "      <td>NaN</td>\n",
       "      <td>all</td>\n",
       "      <td>5604</td>\n",
       "      <td>3.104255e-06</td>\n",
       "      <td>0.033003</td>\n",
       "    </tr>\n",
       "    <tr>\n",
       "      <th>2</th>\n",
       "      <td>friendships</td>\n",
       "      <td>rewired</td>\n",
       "      <td>0.0</td>\n",
       "      <td>all</td>\n",
       "      <td>800</td>\n",
       "      <td>5.354822e-07</td>\n",
       "      <td>0.000001</td>\n",
       "    </tr>\n",
       "    <tr>\n",
       "      <th>3</th>\n",
       "      <td>friendships</td>\n",
       "      <td>rewired</td>\n",
       "      <td>1.0</td>\n",
       "      <td>all</td>\n",
       "      <td>800</td>\n",
       "      <td>7.543229e-07</td>\n",
       "      <td>0.000002</td>\n",
       "    </tr>\n",
       "    <tr>\n",
       "      <th>4</th>\n",
       "      <td>friendships</td>\n",
       "      <td>rewired</td>\n",
       "      <td>2.0</td>\n",
       "      <td>all</td>\n",
       "      <td>800</td>\n",
       "      <td>6.185569e-07</td>\n",
       "      <td>0.000001</td>\n",
       "    </tr>\n",
       "  </tbody>\n",
       "</table>\n",
       "</div>"
      ],
      "text/plain": [
       "        network    version  instance subset     n            bp    bp_avg\n",
       "0   friendships  empirical       NaN    all   800  1.218572e-09  0.000002\n",
       "1  interactions  empirical       NaN    all  5604  3.104255e-06  0.033003\n",
       "2   friendships    rewired       0.0    all   800  5.354822e-07  0.000001\n",
       "3   friendships    rewired       1.0    all   800  7.543229e-07  0.000002\n",
       "4   friendships    rewired       2.0    all   800  6.185569e-07  0.000001"
      ]
     },
     "execution_count": 51,
     "metadata": {},
     "output_type": "execute_result"
    }
   ],
   "source": [
    "# Output filename \n",
    "bipartivity_filename = os.path.join(projdir,\"bipartivity.csv\")\n",
    "# Load bipartivities from file\n",
    "bipartivity = pd.read_csv(bipartivity_filename)\n",
    "bipartivity.head()"
   ]
  },
  {
   "cell_type": "code",
   "execution_count": 52,
   "metadata": {},
   "outputs": [],
   "source": [
    "# This measure is trapped 0 to 1 --- use logit transformation\n",
    "bipartivity[\"logit_bp\"] = bipartivity[\"bp\"].apply(lambda x: np.log(x/(1-x)))"
   ]
  },
  {
   "cell_type": "markdown",
   "metadata": {},
   "source": [
    "### Social network"
   ]
  },
  {
   "cell_type": "code",
   "execution_count": 27,
   "metadata": {},
   "outputs": [],
   "source": [
    "# Consider the network of person-person friendships\n",
    "bipartivity_friendships = bipartivity[bipartivity[\"network\"]==\"friendships\"]"
   ]
  },
  {
   "cell_type": "code",
   "execution_count": 28,
   "metadata": {},
   "outputs": [],
   "source": [
    "# Extract distributions\n",
    "dist_randomized = bipartivity_friendships[bipartivity_friendships[\"version\"]==\"rewired\"][\"logit_bp\"].squeeze().tolist()\n",
    "dist_original = bipartivity_friendships[bipartivity_friendships[\"version\"]==\"empirical\"][\"logit_bp\"].squeeze()"
   ]
  },
  {
   "cell_type": "markdown",
   "metadata": {},
   "source": [
    "#### Compare statistically\n",
    "For a social network, the hypothesis is that the (logit) spectral bipartivity will be consistently and significantly _smaller_ than random expectation."
   ]
  },
  {
   "cell_type": "code",
   "execution_count": 29,
   "metadata": {},
   "outputs": [
    {
     "data": {
      "text/plain": [
       "KstestResult(statistic=1.0, pvalue=0.038461538461538464)"
      ]
     },
     "execution_count": 29,
     "metadata": {},
     "output_type": "execute_result"
    }
   ],
   "source": [
    "# Use the KS test\n",
    "sp.stats.ks_2samp(dist_randomized,[dist_original],alternative=\"less\")"
   ]
  },
  {
   "cell_type": "markdown",
   "metadata": {},
   "source": [
    "#### Plot"
   ]
  },
  {
   "cell_type": "code",
   "execution_count": 30,
   "metadata": {},
   "outputs": [],
   "source": [
    "# Assemble into a dataframe for plotting\n",
    "bipartivity_plot = pd.DataFrame({\"Randomized\":dist_randomized,\"Empirical\":dist_original}).melt()"
   ]
  },
  {
   "cell_type": "code",
   "execution_count": 31,
   "metadata": {},
   "outputs": [
    {
     "data": {
      "image/png": "[encoded data removed]",
      "text/plain": [
       "<Figure size 504x360 with 1 Axes>"
      ]
     },
     "metadata": {
      "needs_background": "light"
     },
     "output_type": "display_data"
    }
   ],
   "source": [
    "# Plot\n",
    "fig, ax = plt.subplots(1,1,figsize=(7, 5))\n",
    "  \n",
    "# Draw the density plot\n",
    "sns.distplot(bipartivity_plot[bipartivity_plot['variable'] == \"Randomized\"]['value'], hist = True, kde = True, norm_hist=True, color=sns.color_palette()[1],\n",
    "             kde_kws = {'linewidth': 2},\n",
    "             ax=ax, label = \"Randomized\")\n",
    "\n",
    "# Draw a line for the actual value\n",
    "sns.distplot(bipartivity_plot[bipartivity_plot['variable'] == \"Empirical\"]['value'], hist = True, kde = False, norm_hist=True, bins = 1,\n",
    "             ax=ax, label = \"Empirical\")\n",
    "\n",
    "    \n",
    "# Plot formatting\n",
    "ax.set_xlim([-23,-12])\n",
    "ax.set_ylim([0,3.25])\n",
    "\n",
    "ax.spines['right'].set_visible(False)\n",
    "ax.spines['top'].set_visible(False)\n",
    "\n",
    "ax.set_ylabel('Probability density',size=18)\n",
    "ax.set_xlabel('Spectral bipartivity (logit)',size=18)\n",
    "ax.tick_params(labelsize=16)\n",
    "\n",
    "handles, labels = ax.get_legend_handles_labels()\n",
    "lgd = fig.legend(reversed(handles),reversed(labels),prop={'size': 18}, bbox_to_anchor=(0.95,0.95), loc='upper left')\n",
    "\n",
    "fig.tight_layout()\n",
    "fig.suptitle(\"Person-person friendships\",size=24)\n",
    "fig.savefig(os.path.join(projdir,\"bp_friendships.pdf\"), bbox_extra_artists=(lgd,), bbox_inches='tight')\n",
    "fig.savefig(os.path.join(projdir,\"bp_friendships.jpg\"), bbox_extra_artists=(lgd,), bbox_inches='tight')"
   ]
  },
  {
   "cell_type": "markdown",
   "metadata": {},
   "source": [
    "### Functional network"
   ]
  },
  {
   "cell_type": "code",
   "execution_count": 32,
   "metadata": {},
   "outputs": [],
   "source": [
    "# Consider the network of protein-protein interactions\n",
    "bipartivity_interactions = bipartivity[bipartivity[\"network\"]==\"interactions\"]"
   ]
  },
  {
   "cell_type": "code",
   "execution_count": 33,
   "metadata": {},
   "outputs": [],
   "source": [
    "# Extract distributions\n",
    "dist_randomized = bipartivity_interactions[bipartivity_interactions[\"version\"]==\"rewired\"][\"logit_bp\"].squeeze().tolist()\n",
    "dist_original = bipartivity_interactions[bipartivity_interactions[\"version\"]==\"empirical\"][\"logit_bp\"].squeeze()"
   ]
  },
  {
   "cell_type": "markdown",
   "metadata": {},
   "source": [
    "#### Compare statistically\n",
    "For a functional network, the hypothesis is that the (logit) spectral bipartivity will be consistently and significantly _greater_ than random expectation."
   ]
  },
  {
   "cell_type": "code",
   "execution_count": 34,
   "metadata": {},
   "outputs": [
    {
     "data": {
      "text/plain": [
       "KstestResult(statistic=1.0, pvalue=0.038461538461538464)"
      ]
     },
     "execution_count": 34,
     "metadata": {},
     "output_type": "execute_result"
    }
   ],
   "source": [
    "# Use the KS test\n",
    "sp.stats.ks_2samp(dist_randomized,[dist_original],alternative=\"greater\")"
   ]
  },
  {
   "cell_type": "markdown",
   "metadata": {},
   "source": [
    "#### Plot"
   ]
  },
  {
   "cell_type": "code",
   "execution_count": 35,
   "metadata": {},
   "outputs": [],
   "source": [
    "# Assemble into a dataframe for plotting\n",
    "bipartivity_plot = pd.DataFrame({\"Randomized\":dist_randomized,\"Empirical\":dist_original}).melt()"
   ]
  },
  {
   "cell_type": "code",
   "execution_count": 36,
   "metadata": {},
   "outputs": [
    {
     "data": {
      "image/png": "[encoded data removed]",
      "text/plain": [
       "<Figure size 504x360 with 1 Axes>"
      ]
     },
     "metadata": {
      "needs_background": "light"
     },
     "output_type": "display_data"
    }
   ],
   "source": [
    "# Plot\n",
    "fig, ax = plt.subplots(1,1,figsize=(7, 5))\n",
    "  \n",
    "# Draw the density plot\n",
    "sns.distplot(bipartivity_plot[bipartivity_plot['variable'] == \"Randomized\"]['value'], hist = True, kde = True, norm_hist=True, color=sns.color_palette()[1],\n",
    "             kde_kws = {'linewidth': 2},\n",
    "             ax=ax, label = \"Randomized\")\n",
    "\n",
    "# Draw a line for the actual value\n",
    "sns.distplot(bipartivity_plot[bipartivity_plot['variable'] == \"Empirical\"]['value'], hist = True, kde = False, norm_hist=True, bins = 1,\n",
    "             ax=ax, label = \"Empirical\")\n",
    "\n",
    "    \n",
    "# Plot formatting\n",
    "ax.set_xlim([-36,-9])\n",
    "ax.set_ylim([0,1.25])\n",
    "\n",
    "ax.spines['right'].set_visible(False)\n",
    "ax.spines['top'].set_visible(False)\n",
    "\n",
    "ax.set_ylabel('Probability density',size=18)\n",
    "ax.set_xlabel('Spectral bipartivity (logit)',size=18)\n",
    "ax.tick_params(labelsize=16)\n",
    "\n",
    "handles, labels = ax.get_legend_handles_labels()\n",
    "lgd = fig.legend(reversed(handles),reversed(labels),prop={'size': 18}, bbox_to_anchor=(0.95,0.95), loc='upper left')\n",
    "\n",
    "fig.tight_layout()\n",
    "fig.suptitle(\"Protein-protein interactions\",size=24)\n",
    "fig.savefig(os.path.join(projdir,\"bp_interactions.pdf\"), bbox_extra_artists=(lgd,), bbox_inches='tight')\n",
    "fig.savefig(os.path.join(projdir,\"bp_interactions.jpg\"), bbox_extra_artists=(lgd,), bbox_inches='tight')"
   ]
  },
  {
   "cell_type": "markdown",
   "metadata": {},
   "source": [
    "#### Now using approximation"
   ]
  },
  {
   "cell_type": "code",
   "execution_count": 37,
   "metadata": {},
   "outputs": [],
   "source": [
    "# Output filename \n",
    "bipartivity_approx_filename = os.path.join(projdir,\"bipartivity_approx.csv\")\n",
    "# Load bipartivities from file\n",
    "bipartivity_approx = pd.read_csv(bipartivity_approx_filename)"
   ]
  },
  {
   "cell_type": "code",
   "execution_count": 38,
   "metadata": {},
   "outputs": [
    {
     "data": {
      "text/html": [
       "<div>\n",
       "<style scoped>\n",
       "    .dataframe tbody tr th:only-of-type {\n",
       "        vertical-align: middle;\n",
       "    }\n",
       "\n",
       "    .dataframe tbody tr th {\n",
       "        vertical-align: top;\n",
       "    }\n",
       "\n",
       "    .dataframe thead th {\n",
       "        text-align: right;\n",
       "    }\n",
       "</style>\n",
       "<table border=\"1\" class=\"dataframe\">\n",
       "  <thead>\n",
       "    <tr style=\"text-align: right;\">\n",
       "      <th></th>\n",
       "      <th>network</th>\n",
       "      <th>version</th>\n",
       "      <th>instance</th>\n",
       "      <th>logit_bp</th>\n",
       "      <th>ev_A_-1</th>\n",
       "      <th>ev_A_-2</th>\n",
       "      <th>ev_A_-3</th>\n",
       "      <th>ev_A_3</th>\n",
       "      <th>ev_A_2</th>\n",
       "      <th>ev_A_1</th>\n",
       "    </tr>\n",
       "  </thead>\n",
       "  <tbody>\n",
       "    <tr>\n",
       "      <th>0</th>\n",
       "      <td>interactions</td>\n",
       "      <td>empirical</td>\n",
       "      <td>NaN</td>\n",
       "      <td>-12.682739</td>\n",
       "      <td>-39.246266</td>\n",
       "      <td>-26.634541</td>\n",
       "      <td>-22.839218</td>\n",
       "      <td>23.029774</td>\n",
       "      <td>38.269140</td>\n",
       "      <td>51.929005</td>\n",
       "    </tr>\n",
       "    <tr>\n",
       "      <th>1</th>\n",
       "      <td>interactions</td>\n",
       "      <td>rewired</td>\n",
       "      <td>0.0</td>\n",
       "      <td>-31.296009</td>\n",
       "      <td>-22.907394</td>\n",
       "      <td>-20.535417</td>\n",
       "      <td>-18.010665</td>\n",
       "      <td>18.711856</td>\n",
       "      <td>19.650049</td>\n",
       "      <td>54.203404</td>\n",
       "    </tr>\n",
       "    <tr>\n",
       "      <th>2</th>\n",
       "      <td>interactions</td>\n",
       "      <td>rewired</td>\n",
       "      <td>1.0</td>\n",
       "      <td>-30.700517</td>\n",
       "      <td>-23.000992</td>\n",
       "      <td>-20.684819</td>\n",
       "      <td>-17.833673</td>\n",
       "      <td>19.159246</td>\n",
       "      <td>20.098403</td>\n",
       "      <td>53.701510</td>\n",
       "    </tr>\n",
       "    <tr>\n",
       "      <th>3</th>\n",
       "      <td>interactions</td>\n",
       "      <td>rewired</td>\n",
       "      <td>2.0</td>\n",
       "      <td>-30.457913</td>\n",
       "      <td>-23.217645</td>\n",
       "      <td>-20.234023</td>\n",
       "      <td>-17.603234</td>\n",
       "      <td>18.900305</td>\n",
       "      <td>19.432140</td>\n",
       "      <td>53.675558</td>\n",
       "    </tr>\n",
       "    <tr>\n",
       "      <th>4</th>\n",
       "      <td>interactions</td>\n",
       "      <td>rewired</td>\n",
       "      <td>3.0</td>\n",
       "      <td>-31.286266</td>\n",
       "      <td>-22.830224</td>\n",
       "      <td>-20.134994</td>\n",
       "      <td>-17.942557</td>\n",
       "      <td>18.963122</td>\n",
       "      <td>19.538220</td>\n",
       "      <td>54.116490</td>\n",
       "    </tr>\n",
       "  </tbody>\n",
       "</table>\n",
       "</div>"
      ],
      "text/plain": [
       "        network    version  instance   logit_bp    ev_A_-1    ev_A_-2  \\\n",
       "0  interactions  empirical       NaN -12.682739 -39.246266 -26.634541   \n",
       "1  interactions    rewired       0.0 -31.296009 -22.907394 -20.535417   \n",
       "2  interactions    rewired       1.0 -30.700517 -23.000992 -20.684819   \n",
       "3  interactions    rewired       2.0 -30.457913 -23.217645 -20.234023   \n",
       "4  interactions    rewired       3.0 -31.286266 -22.830224 -20.134994   \n",
       "\n",
       "     ev_A_-3     ev_A_3     ev_A_2     ev_A_1  \n",
       "0 -22.839218  23.029774  38.269140  51.929005  \n",
       "1 -18.010665  18.711856  19.650049  54.203404  \n",
       "2 -17.833673  19.159246  20.098403  53.701510  \n",
       "3 -17.603234  18.900305  19.432140  53.675558  \n",
       "4 -17.942557  18.963122  19.538220  54.116490  "
      ]
     },
     "execution_count": 38,
     "metadata": {},
     "output_type": "execute_result"
    }
   ],
   "source": [
    "# Confirm that bipartivity is small and that the extreme eigenvalues are dominant (under exponentiation)\n",
    "bipartivity_approx.head()"
   ]
  },
  {
   "cell_type": "code",
   "execution_count": 39,
   "metadata": {},
   "outputs": [],
   "source": [
    "# Extract distributions\n",
    "dist_randomized = bipartivity_interactions[bipartivity_interactions[\"version\"]==\"rewired\"][\"logit_bp\"].squeeze().tolist()\n",
    "dist_original = bipartivity_interactions[bipartivity_interactions[\"version\"]==\"empirical\"][\"logit_bp\"].squeeze()"
   ]
  },
  {
   "cell_type": "code",
   "execution_count": 40,
   "metadata": {},
   "outputs": [
    {
     "data": {
      "text/plain": [
       "KstestResult(statistic=1.0, pvalue=0.038461538461538464)"
      ]
     },
     "execution_count": 40,
     "metadata": {},
     "output_type": "execute_result"
    }
   ],
   "source": [
    "# Compare statistically\n",
    "sp.stats.ks_2samp(dist_randomized,[dist_original],alternative=\"greater\")"
   ]
  },
  {
   "cell_type": "code",
   "execution_count": 41,
   "metadata": {},
   "outputs": [],
   "source": [
    "# Assemble into a dataframe for plotting\n",
    "bipartivity_plot = pd.DataFrame({\"Randomized\":dist_randomized,\"Empirical\":dist_original}).melt()"
   ]
  },
  {
   "cell_type": "code",
   "execution_count": 42,
   "metadata": {},
   "outputs": [
    {
     "data": {
      "image/png": "[encoded data removed]",
      "text/plain": [
       "<Figure size 504x360 with 1 Axes>"
      ]
     },
     "metadata": {
      "needs_background": "light"
     },
     "output_type": "display_data"
    }
   ],
   "source": [
    "# Same plot\n",
    "fig, ax = plt.subplots(1,1,figsize=(7, 5))\n",
    "  \n",
    "# Draw the density plot\n",
    "sns.distplot(bipartivity_plot[bipartivity_plot['variable'] == \"Randomized\"]['value'], hist = True, kde = True, norm_hist=True, color=sns.color_palette()[1],\n",
    "             kde_kws = {'linewidth': 2},\n",
    "             ax=ax, label = \"Randomized\")\n",
    "\n",
    "# Draw a line for the actual value\n",
    "sns.distplot(bipartivity_plot[bipartivity_plot['variable'] == \"Empirical\"]['value'], hist = True, kde = False, norm_hist=True, bins = 1,\n",
    "             ax=ax, label = \"Empirical\")\n",
    "\n",
    "    \n",
    "# Plot formatting\n",
    "ax.set_xlim([-36,-9])\n",
    "ax.set_ylim([0,1.25])\n",
    "\n",
    "ax.spines['right'].set_visible(False)\n",
    "ax.spines['top'].set_visible(False)\n",
    "\n",
    "ax.set_ylabel('Probability density',size=18)\n",
    "ax.set_xlabel('Spectral bipartivity (logit)',size=18)\n",
    "ax.tick_params(labelsize=16)\n",
    "\n",
    "handles, labels = ax.get_legend_handles_labels()\n",
    "lgd = fig.legend(reversed(handles),reversed(labels),prop={'size': 18}, bbox_to_anchor=(0.95,0.95), loc='upper left')\n",
    "\n",
    "fig.tight_layout()\n",
    "fig.suptitle(\"Protein-protein interactions\",size=24)\n",
    "fig.savefig(os.path.join(projdir,\"bp_interactions.pdf\"), bbox_extra_artists=(lgd,), bbox_inches='tight')\n",
    "fig.savefig(os.path.join(projdir,\"bp_interactions.jpg\"), bbox_extra_artists=(lgd,), bbox_inches='tight')"
   ]
  },
  {
   "cell_type": "code",
   "execution_count": null,
   "metadata": {},
   "outputs": [],
   "source": []
  }
 ],
 "metadata": {
  "kernelspec": {
   "display_name": "Python 3",
   "language": "python",
   "name": "python3"
  },
  "language_info": {
   "codemirror_mode": {
    "name": "ipython",
    "version": 3
   },
   "file_extension": ".py",
   "mimetype": "text/x-python",
   "name": "python",
   "nbconvert_exporter": "python",
   "pygments_lexer": "ipython3",
   "version": "3.8.3"
  }
 },
 "nbformat": 4,
 "nbformat_minor": 4
}
